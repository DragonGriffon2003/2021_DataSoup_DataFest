{
 "cells": [
  {
   "cell_type": "code",
   "execution_count": 2,
   "id": "71528efd-4fb0-442f-8233-5616dcdbfe1a",
   "metadata": {},
   "outputs": [],
   "source": [
    "import pandas as pd\n",
    "import numpy as np\n",
    "import matplotlib\n",
    "from matplotlib import pyplot as plt\n",
    "import math"
   ]
  },
  {
   "cell_type": "code",
   "execution_count": 8,
   "id": "52ad3a1a-c7ef-445c-8924-9d5c9b6dce1b",
   "metadata": {},
   "outputs": [],
   "source": [
    "broad_2019 = pd.read_csv(\"input/broadband_data_2019November.csv\")\n",
    "broad_2020 = pd.read_csv(\"input/broadband_data_2020October.csv\")\n",
    "broad_challenge = pd.read_csv(\"input/broadband_data_opendatachallenge.csv\")\n",
    "broad_zip = pd.read_csv(\"input/broadband_data_zipcode.csv\")"
   ]
  },
  {
   "cell_type": "code",
   "execution_count": null,
   "id": "ec55a138-cac6-4887-b5fa-ee1d819e44c5",
   "metadata": {},
   "outputs": [],
   "source": []
  }
 ],
 "metadata": {
  "kernelspec": {
   "display_name": "Python 3",
   "language": "python",
   "name": "python3"
  },
  "language_info": {
   "codemirror_mode": {
    "name": "ipython",
    "version": 3
   },
   "file_extension": ".py",
   "mimetype": "text/x-python",
   "name": "python",
   "nbconvert_exporter": "python",
   "pygments_lexer": "ipython3",
   "version": "3.8.8"
  }
 },
 "nbformat": 4,
 "nbformat_minor": 5
}
